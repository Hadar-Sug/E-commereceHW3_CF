{
 "cells": [
  {
   "cell_type": "code",
   "execution_count": 320,
   "metadata": {
    "collapsed": true,
    "pycharm": {
     "name": "#%%\n"
    }
   },
   "outputs": [],
   "source": [
    "import random\n",
    "import pandas as pd\n",
    "import numpy as np\n",
    "import numpy.linalg as la\n",
    "import scipy.sparse as sp\n",
    "import sklearn.preprocessing\n",
    "from scipy.sparse.linalg import svds\n",
    "from sklearn.metrics import mean_squared_error as MSE\n",
    "import matplotlib.pyplot as plt\n",
    "import itertools\n",
    "import scipy.sparse.linalg as spla\n",
    "from sklearn.preprocessing import MinMaxScaler\n",
    "from scipy.sparse import coo_matrix, csr_matrix, csc_matrix\n",
    "from scipy.sparse.linalg import lsqr\n",
    "\n",
    "\n",
    "\n",
    "df = pd.read_csv('user_song.csv')\n",
    "test_df = pd.read_csv('test.csv')\n",
    "train_users = df.iloc[:, 0].unique().tolist()\n",
    "train_songs = df.iloc[:, 1].unique().tolist()\n",
    "train_couples = list(zip(df.iloc[:, 0], df.iloc[:, 1]))\n",
    "\n",
    "test_users = test_df.iloc[:, 0].unique().tolist()\n",
    "test_songs = test_df.iloc[:, 1].unique().tolist()\n",
    "test_couples = list(zip(test_df.iloc[:, 0], test_df.iloc[:, 1]))\n",
    "\n",
    "all_users = list(set(train_users + test_users))\n",
    "all_songs = list(set(train_songs + test_songs))\n",
    "all_couples = list(itertools.product(all_users, all_songs))\n",
    "new_couples = list(set(all_couples) - set(train_couples) - set(test_couples))"
   ]
  },
  {
   "cell_type": "markdown",
   "source": [
    "# Part 1 - Least Squares"
   ],
   "metadata": {
    "collapsed": false,
    "pycharm": {
     "name": "#%% md\n"
    }
   }
  },
  {
   "cell_type": "code",
   "execution_count": 321,
   "outputs": [
    {
     "data": {
      "text/plain": "733.3121758765291"
     },
     "execution_count": 321,
     "metadata": {},
     "output_type": "execute_result"
    }
   ],
   "source": [
    "n = df.shape[0]\n",
    "m = n + len(new_couples)\n",
    "avg = df.iloc[:, 2].mean()\n",
    "avg"
   ],
   "metadata": {
    "collapsed": false,
    "pycharm": {
     "name": "#%%\n"
    }
   }
  },
  {
   "cell_type": "code",
   "execution_count": 322,
   "outputs": [
    {
     "data": {
      "text/plain": "(16548, 1892)"
     },
     "execution_count": 322,
     "metadata": {},
     "output_type": "execute_result"
    }
   ],
   "source": [
    "num_users = len(all_users)  # Number of users\n",
    "num_songs = len(all_songs)  # Number of songs\n",
    "num_songs, num_users"
   ],
   "metadata": {
    "collapsed": false,
    "pycharm": {
     "name": "#%%\n"
    }
   }
  },
  {
   "cell_type": "code",
   "execution_count": 323,
   "outputs": [],
   "source": [
    "# user dictionary\n",
    "users_hash = {}\n",
    "for i, user in enumerate(all_users):\n",
    "    users_hash[user] = i"
   ],
   "metadata": {
    "collapsed": false,
    "pycharm": {
     "name": "#%%\n"
    }
   }
  },
  {
   "cell_type": "code",
   "execution_count": 324,
   "outputs": [],
   "source": [
    "# song dictionary\n",
    "songs_hash = {}\n",
    "for j, song in enumerate(all_songs):\n",
    "    songs_hash[song] = j + num_users"
   ],
   "metadata": {
    "collapsed": false,
    "pycharm": {
     "name": "#%%\n"
    }
   }
  },
  {
   "cell_type": "markdown",
   "source": [
    "## creating the A and c\n",
    "\\begin{equation}\n",
    "\\hat{b} = \\arg\\min_{b} \\|Ab - c\\|^2\n",
    "\\end{equation}"
   ],
   "metadata": {
    "collapsed": false,
    "pycharm": {
     "name": "#%% md\n"
    }
   }
  },
  {
   "cell_type": "code",
   "execution_count": 325,
   "outputs": [],
   "source": [
    "train_users, train_songs = df['user_id'].map(users_hash).values, df['song_id'].map(songs_hash).values\n",
    "merged_train = np.column_stack((train_users, train_songs)).reshape(-1)\n",
    "A_cols = merged_train"
   ],
   "metadata": {
    "collapsed": false,
    "pycharm": {
     "name": "#%%\n"
    }
   }
  },
  {
   "cell_type": "code",
   "execution_count": 327,
   "outputs": [],
   "source": [
    "rows1, rows2 = np.arange(int(0.5 * len(A_cols))), np.arange(int(0.5 * len(A_cols)))\n",
    "A_rows = np.column_stack((rows1, rows2)).reshape(-1)"
   ],
   "metadata": {
    "collapsed": false,
    "pycharm": {
     "name": "#%%\n"
    }
   }
  },
  {
   "cell_type": "code",
   "execution_count": 328,
   "outputs": [],
   "source": [
    "values = np.ones(len(A_rows))"
   ],
   "metadata": {
    "collapsed": false,
    "pycharm": {
     "name": "#%%\n"
    }
   }
  },
  {
   "cell_type": "code",
   "execution_count": 330,
   "outputs": [],
   "source": [
    "A = coo_matrix((values, (A_rows, A_cols)),\n",
    "               shape=(int(0.5 * len(A_cols)), len(all_users) + len(all_songs))).tocsr()\n",
    "c = df['weight'].values - avg"
   ],
   "metadata": {
    "collapsed": false,
    "pycharm": {
     "name": "#%%\n"
    }
   }
  },
  {
   "cell_type": "markdown",
   "source": [
    "## Ls"
   ],
   "metadata": {
    "collapsed": false,
    "pycharm": {
     "name": "#%% md\n"
    }
   }
  },
  {
   "cell_type": "code",
   "execution_count": 332,
   "outputs": [],
   "source": [
    "final_b = lsqr(A=A, b=c)\n",
    "final_b = final_b[0]\n",
    "b_u_hat = final_b[:num_users]\n",
    "b_i_hat = final_b[num_users:]"
   ],
   "metadata": {
    "collapsed": false,
    "pycharm": {
     "name": "#%%\n"
    }
   }
  },
  {
   "cell_type": "markdown",
   "source": [
    "## true matrix"
   ],
   "metadata": {
    "collapsed": false,
    "pycharm": {
     "name": "#%% md\n"
    }
   }
  },
  {
   "cell_type": "code",
   "execution_count": 334,
   "outputs": [],
   "source": [
    "songs_hash = {}\n",
    "for j, song in enumerate(all_songs):\n",
    "    songs_hash[song] = j"
   ],
   "metadata": {
    "collapsed": false,
    "pycharm": {
     "name": "#%%\n"
    }
   }
  },
  {
   "cell_type": "code",
   "execution_count": 343,
   "outputs": [
    {
     "data": {
      "text/plain": "(32, 15853)"
     },
     "execution_count": 343,
     "metadata": {},
     "output_type": "execute_result"
    }
   ],
   "source": [
    "values = df['weight'].values\n",
    "rows = df['user_id'].map(users_hash).values\n",
    "cols = df['song_id'].map(songs_hash).values\n",
    "true_mat = coo_matrix((values, (rows, cols)), shape=(num_users, num_songs)).tocsr()"
   ],
   "metadata": {
    "collapsed": false,
    "pycharm": {
     "name": "#%%\n"
    }
   }
  },
  {
   "cell_type": "code",
   "execution_count": 352,
   "outputs": [],
   "source": [
    "predictions_part1 = true_mat.tolil(copy=True)\n",
    "for tup in zip(rows, cols):\n",
    "    user, song = tup[0], tup[1]\n",
    "    predictions_part1[tup] = max(avg + b_u_hat[user] + b_i_hat[song], 0)\n",
    "predictions_part1 = predictions_part1.tocsr()"
   ],
   "metadata": {
    "collapsed": false,
    "pycharm": {
     "name": "#%%\n"
    }
   }
  },
  {
   "cell_type": "markdown",
   "source": [
    "## Train scores - part 1"
   ],
   "metadata": {
    "collapsed": false,
    "pycharm": {
     "name": "#%% md\n"
    }
   }
  },
  {
   "cell_type": "code",
   "execution_count": 380,
   "outputs": [],
   "source": [
    "def get_score(true, pred, N, arr_type='np'):\n",
    "    score_matrix = (true - pred)\n",
    "    if arr_type == 'sp':\n",
    "        score_matrix = score_matrix.toarray()\n",
    "    return {'SSE': la.norm(score_matrix) ** 2, 'RMSE': ((la.norm(score_matrix) ** 2) / N) ** 0.5}"
   ],
   "metadata": {
    "collapsed": false,
    "pycharm": {
     "name": "#%%\n"
    }
   }
  },
  {
   "cell_type": "code",
   "execution_count": 357,
   "outputs": [
    {
     "name": "stdout",
     "output_type": "stream",
     "text": [
      "RMSE in Part 1 on train set: 3392.5563132635034\n",
      "SSE in Part 1 on train set: 927683748973.0\n"
     ]
    }
   ],
   "source": [
    "N = df.shape[0]\n",
    "scores_part1 = get_score(true_mat, predictions_part1, N, arr_type='sp')\n",
    "print(f'RMSE in Part 1 on train set: {scores_part1[\"RMSE\"]}\\n'\n",
    "      f'SSE in Part 1 on train set: {scores_part1[\"SSE\"]}')"
   ],
   "metadata": {
    "collapsed": false,
    "pycharm": {
     "name": "#%%\n"
    }
   }
  },
  {
   "cell_type": "markdown",
   "source": [
    "## Test Prediction - part 1"
   ],
   "metadata": {
    "collapsed": false,
    "pycharm": {
     "name": "#%% md\n"
    }
   }
  },
  {
   "cell_type": "code",
   "execution_count": 358,
   "outputs": [],
   "source": [
    "test_users_mapped = test_df['user_id'].map(users_hash).values\n",
    "test_songs_mapped = test_df['song_id'].map(songs_hash).values\n",
    "test_indxs_mapped = list((zip(test_users_mapped, test_songs_mapped)))"
   ],
   "metadata": {
    "collapsed": false,
    "pycharm": {
     "name": "#%%\n"
    }
   }
  },
  {
   "cell_type": "code",
   "execution_count": 359,
   "outputs": [],
   "source": [
    "test_pred_1 = []\n",
    "for idx in test_indxs_mapped:\n",
    "    user, song = idx[0], idx[1]\n",
    "    test_pred_1.append(max(avg + b_u_hat[user] + b_i_hat[song], 0))"
   ],
   "metadata": {
    "collapsed": false,
    "pycharm": {
     "name": "#%%\n"
    }
   }
  },
  {
   "cell_type": "markdown",
   "source": [
    "# Part 2 - ALS Method"
   ],
   "metadata": {
    "collapsed": false,
    "pycharm": {
     "name": "#%% md\n"
    }
   }
  },
  {
   "cell_type": "code",
   "execution_count": 19,
   "outputs": [],
   "source": [
    "# user dictionary\n",
    "users_hash = {}\n",
    "for i, user in enumerate(all_users):\n",
    "    users_hash[user] = i"
   ],
   "metadata": {
    "collapsed": false,
    "pycharm": {
     "name": "#%%\n"
    }
   }
  },
  {
   "cell_type": "code",
   "execution_count": 20,
   "outputs": [],
   "source": [
    "# song dictionary\n",
    "songs_hash = {}\n",
    "for j, song in enumerate(all_songs):\n",
    "    songs_hash[song] = j"
   ],
   "metadata": {
    "collapsed": false,
    "pycharm": {
     "name": "#%%\n"
    }
   }
  },
  {
   "cell_type": "code",
   "execution_count": 21,
   "outputs": [
    {
     "data": {
      "text/plain": "(1892, 16548)"
     },
     "execution_count": 21,
     "metadata": {},
     "output_type": "execute_result"
    }
   ],
   "source": [
    "num_users = len(all_users)  # Number of users\n",
    "num_songs = len(all_songs)  # Number of songs\n",
    "num_users, num_songs"
   ],
   "metadata": {
    "collapsed": false,
    "pycharm": {
     "name": "#%%\n"
    }
   }
  },
  {
   "cell_type": "markdown",
   "source": [
    "## create the ratings matrix"
   ],
   "metadata": {
    "collapsed": false,
    "pycharm": {
     "name": "#%% md\n"
    }
   }
  },
  {
   "cell_type": "code",
   "execution_count": 501,
   "outputs": [],
   "source": [
    "# scaler = MinMaxScaler(feature_range=(0, 100))\n",
    "values = df['weight'].values\n",
    "rows = df['user_id'].map(users_hash).values\n",
    "cols = df['song_id'].map(songs_hash).values\n",
    "true_mat = coo_matrix((values, (rows, cols)), shape=(num_users, num_songs)).tocsr()\n",
    "mat_part2 = true_mat.toarray()"
   ],
   "metadata": {
    "collapsed": false,
    "pycharm": {
     "name": "#%%\n"
    }
   }
  },
  {
   "cell_type": "markdown",
   "source": [
    "## ALS model"
   ],
   "metadata": {
    "collapsed": false,
    "pycharm": {
     "name": "#%% md\n"
    }
   }
  },
  {
   "cell_type": "code",
   "execution_count": 502,
   "outputs": [],
   "source": [
    "# alternating least squares step\n",
    "def als_step(latent_vectors, fixed_vecs, ratings, _lambda=0, type='user'):\n",
    "    \"\"\"\n",
    "    One of the two ALS steps. Solve for the latent vectors\n",
    "    specified by type.\n",
    "    \"\"\"\n",
    "    if type == 'user':\n",
    "        # calculating P, Q is fixed\n",
    "        for u in range(latent_vectors.shape[0]):  # iterate over P rows and R Rows\n",
    "            r = ratings[u, :].flatten()\n",
    "            rows_to_remove = np.where(r==0)[0]\n",
    "            clean_r = np.delete(r, rows_to_remove)\n",
    "            mat = np.delete(fixed_vecs, rows_to_remove, axis=0)\n",
    "            latent_vectors[u, :] = la.lstsq(mat, clean_r,rcond=None)[0]\n",
    "    elif type == 'item':\n",
    "        # calculating Q, P is fixed\n",
    "        for i in range(latent_vectors.shape[0]):\n",
    "            # remove rows from\n",
    "            r = ratings[:, i].flatten()\n",
    "            rows_to_remove = np.where(r==0)[0]\n",
    "            clean_r = np.delete(r, rows_to_remove)\n",
    "            mat = np.delete(fixed_vecs, rows_to_remove, axis=0)\n",
    "\n",
    "            latent_vectors[i, :] = la.lstsq(mat,clean_r,rcond=None)[0]\n",
    "    return latent_vectors"
   ],
   "metadata": {
    "collapsed": false,
    "pycharm": {
     "name": "#%%\n"
    }
   }
  },
  {
   "cell_type": "code",
   "execution_count": 508,
   "outputs": [],
   "source": [
    "def als_predict_vecs(k=20,eps=300000):\n",
    "    np.random.seed(0)\n",
    "    new_songs = np.zeros((num_songs, k))\n",
    "    new_users = np.random.randn(num_users,k)\n",
    "    scores_array = list()\n",
    "    start = True\n",
    "    i=1\n",
    "    while start or (scores_array[-2]['SSE'] - scores_array[-1]['SSE']>=eps) :\n",
    "        new_songs = als_step(new_songs,\n",
    "                             new_users,\n",
    "                             mat_part2,\n",
    "                             type='item')\n",
    "        # new_songs = np.maximum(new_songs, 0)\n",
    "        new_users = als_step(new_users,\n",
    "                             new_songs,\n",
    "                             mat_part2,\n",
    "                             type='user')\n",
    "        meantime_pred = predict(new_users, new_songs)\n",
    "        meantime_pred = np.maximum(meantime_pred, 0)\n",
    "        scores_array.append(get_score(mat_part2, meantime_pred, N))\n",
    "        i+=1\n",
    "        if i ==3:\n",
    "            start = False\n",
    "    return new_users, new_songs, scores_array\n"
   ],
   "metadata": {
    "collapsed": false,
    "pycharm": {
     "name": "#%%\n"
    }
   }
  },
  {
   "cell_type": "code",
   "execution_count": 504,
   "outputs": [],
   "source": [
    "# user_matrix,song_matrix = als_predict()\n",
    "def predict(users, songs):\n",
    "    predictions = np.matmul(users, songs.T)\n",
    "    train_indices = list(zip(rows,cols))\n",
    "    mask = np.zeros(predictions.shape,dtype=bool)\n",
    "    for entry in train_indices:\n",
    "        mask[entry]=True\n",
    "    predictions[~mask] = 0\n",
    "    return predictions"
   ],
   "metadata": {
    "collapsed": false,
    "pycharm": {
     "name": "#%%\n"
    }
   }
  },
  {
   "cell_type": "markdown",
   "source": [
    "## Train Prediction - part 2"
   ],
   "metadata": {
    "collapsed": false,
    "pycharm": {
     "name": "#%% md\n"
    }
   }
  },
  {
   "cell_type": "code",
   "execution_count": 509,
   "outputs": [
    {
     "ename": "IndexError",
     "evalue": "invalid index to scalar variable.",
     "output_type": "error",
     "traceback": [
      "\u001B[1;31m---------------------------------------------------------------------------\u001B[0m",
      "\u001B[1;31mIndexError\u001B[0m                                Traceback (most recent call last)",
      "\u001B[1;32m<ipython-input-509-d724ac75f598>\u001B[0m in \u001B[0;36m<module>\u001B[1;34m\u001B[0m\n\u001B[0;32m      2\u001B[0m \u001B[0muser_vecs\u001B[0m\u001B[1;33m,\u001B[0m \u001B[0msong_vecs\u001B[0m\u001B[1;33m,\u001B[0m \u001B[0mscores_arr\u001B[0m \u001B[1;33m=\u001B[0m \u001B[0mals_predict_vecs\u001B[0m\u001B[1;33m(\u001B[0m\u001B[1;33m)\u001B[0m  \u001B[1;31m# TODO: 10?, 2 works better though\u001B[0m\u001B[1;33m\u001B[0m\u001B[1;33m\u001B[0m\u001B[0m\n\u001B[0;32m      3\u001B[0m \u001B[0mscores_part2\u001B[0m \u001B[1;33m=\u001B[0m \u001B[0mscores_arr\u001B[0m\u001B[1;33m[\u001B[0m\u001B[1;33m-\u001B[0m\u001B[1;36m1\u001B[0m\u001B[1;33m]\u001B[0m\u001B[1;33m[\u001B[0m\u001B[1;34m'SSE'\u001B[0m\u001B[1;33m]\u001B[0m\u001B[1;33m\u001B[0m\u001B[1;33m\u001B[0m\u001B[0m\n\u001B[1;32m----> 4\u001B[1;33m print(f'RMSE in Part 2 on train set: {scores_part2[\"RMSE\"]}\\n'\n\u001B[0m\u001B[0;32m      5\u001B[0m       \u001B[1;34mf'SSE in Part 2 on train set: {scores_part2[\"SSE\"]}\\n'\u001B[0m\u001B[1;33m\u001B[0m\u001B[1;33m\u001B[0m\u001B[0m\n\u001B[0;32m      6\u001B[0m       \u001B[1;34mf'compared to part 1\\n'\u001B[0m\u001B[1;33m\u001B[0m\u001B[1;33m\u001B[0m\u001B[0m\n",
      "\u001B[1;31mIndexError\u001B[0m: invalid index to scalar variable."
     ]
    }
   ],
   "source": [
    "user_vecs, song_vecs, scores_arr = als_predict_vecs()\n",
    "scores_part2 = scores_arr[-1]['SSE']\n",
    "print(f'RMSE in Part 2 on train set: {scores_part2}\\n'\n",
    "      f'SSE in Part 2 on train set: {scores_part2}\\n'\n",
    "      f'compared to part 1\\n'\n",
    "      f'Improvement of {scores_part1[\"RMSE\"] - scores_arr[-1][\"RMSE\"]} in the RMSE\\n'\n",
    "      f'Improvement of {scores_part1[\"SSE\"] - scores_part2} in the SSE')"
   ],
   "metadata": {
    "collapsed": false,
    "pycharm": {
     "name": "#%%\n"
    }
   }
  },
  {
   "cell_type": "code",
   "execution_count": 516,
   "outputs": [
    {
     "name": "stdout",
     "output_type": "stream",
     "text": [
      "RMSE in Part 2 on train set: 241668355.2755765\n",
      "SSE in Part 2 on train set: 241668355.2755765\n",
      "compared to part 1\n",
      "Improvement of 3337.799648906993 in the RMSE\n",
      "Improvement of 927442080617.7244 in the SSE\n"
     ]
    }
   ],
   "source": [],
   "metadata": {
    "collapsed": false,
    "pycharm": {
     "name": "#%%\n"
    }
   }
  },
  {
   "cell_type": "markdown",
   "source": [
    "## check the learning curve"
   ],
   "metadata": {
    "collapsed": false,
    "pycharm": {
     "name": "#%% md\n"
    }
   }
  },
  {
   "cell_type": "code",
   "execution_count": 512,
   "outputs": [],
   "source": [
    "RMSE_curve = [d['RMSE'] for d in scores_arr]\n",
    "SSE_curve = [d['SSE'] for d in scores_arr]"
   ],
   "metadata": {
    "collapsed": false,
    "pycharm": {
     "name": "#%%\n"
    }
   }
  },
  {
   "cell_type": "code",
   "execution_count": 515,
   "outputs": [
    {
     "data": {
      "text/plain": "<Figure size 432x288 with 1 Axes>",
      "image/png": "[encoded data removed]"
     },
     "metadata": {
      "needs_background": "light"
     },
     "output_type": "display_data"
    },
    {
     "data": {
      "text/plain": "<Figure size 432x288 with 1 Axes>",
      "image/png": "[encoded data removed]"
     },
     "metadata": {
      "needs_background": "light"
     },
     "output_type": "display_data"
    }
   ],
   "source": [
    "# Plotting list1\n",
    "plt.figure(1)\n",
    "plt.plot(np.arange(len(RMSE_curve)),RMSE_curve)\n",
    "plt.xlabel('iterations')\n",
    "plt.ylabel('RMSE')\n",
    "plt.title('RMSE progression')\n",
    "\n",
    "# Plotting list2\n",
    "plt.figure(2)\n",
    "plt.plot(np.arange(len(RMSE_curve)),SSE_curve)\n",
    "plt.xlabel('Iterations')\n",
    "plt.ylabel('SSE')\n",
    "plt.title('SSE progression')\n",
    "\n",
    "# Show the plots\n",
    "plt.show()"
   ],
   "metadata": {
    "collapsed": false,
    "pycharm": {
     "name": "#%%\n"
    }
   }
  },
  {
   "cell_type": "markdown",
   "source": [
    "## Test Prediction - part 2"
   ],
   "metadata": {
    "collapsed": false,
    "pycharm": {
     "name": "#%% md\n"
    }
   }
  },
  {
   "cell_type": "code",
   "execution_count": 144,
   "outputs": [],
   "source": [
    "test_pred_2 = []\n",
    "for idx in test_indxs_mapped:\n",
    "    user, song = idx[0], idx[1]\n",
    "    user_vec, song_vec = user_vecs[user], song_vecs[song]\n",
    "    pred = user_vec.dot(song_vec)\n",
    "    test_pred_2.append(max(pred, 0))"
   ],
   "metadata": {
    "collapsed": false,
    "pycharm": {
     "name": "#%%\n"
    }
   }
  },
  {
   "cell_type": "markdown",
   "source": [
    "# Part 3"
   ],
   "metadata": {
    "collapsed": false,
    "pycharm": {
     "name": "#%% md\n"
    }
   }
  },
  {
   "cell_type": "code",
   "execution_count": 497,
   "outputs": [],
   "source": [
    "# Perform SVD on the sparse matrix\n",
    "# k = Number of singular values/vectors to use\n",
    "U, S, V = svds(true_mat.astype(float), k=20)\n",
    "\n",
    "# Reconstruct the matrix using k singular values/vectors\n",
    "reduced_R = U.dot(sp.diags(S).dot(V))"
   ],
   "metadata": {
    "collapsed": false,
    "pycharm": {
     "name": "#%%\n"
    }
   }
  },
  {
   "cell_type": "markdown",
   "source": [
    "## part 3 train scores"
   ],
   "metadata": {
    "collapsed": false,
    "pycharm": {
     "name": "#%% md\n"
    }
   }
  },
  {
   "cell_type": "code",
   "execution_count": 499,
   "outputs": [
    {
     "data": {
      "text/plain": "{'SSE': 229268390659.79822, 'RMSE': 1686.5498492580596}"
     },
     "execution_count": 499,
     "metadata": {},
     "output_type": "execute_result"
    }
   ],
   "source": [
    "predictions = reduced_R\n",
    "train_indices = list(zip(rows,cols))\n",
    "mask = np.zeros(reduced_R.shape,dtype=bool)\n",
    "for entry in train_indices:\n",
    "    mask[entry]=True\n",
    "predictions[~mask] = 0\n",
    "score = get_score(true_mat.toarray(),predictions,N)"
   ],
   "metadata": {
    "collapsed": false,
    "pycharm": {
     "name": "#%%\n"
    }
   }
  },
  {
   "cell_type": "markdown",
   "source": [
    "## part 3 - test"
   ],
   "metadata": {
    "collapsed": false,
    "pycharm": {
     "name": "#%% md\n"
    }
   }
  },
  {
   "cell_type": "code",
   "execution_count": null,
   "outputs": [],
   "source": [
    "test_pred_3 = []\n",
    "for idx in test_indxs_mapped:\n",
    "    user, song = idx[0], idx[1]\n",
    "    test_pred_3.append(max(reduced_R[user,song], 0))"
   ],
   "metadata": {
    "collapsed": false,
    "pycharm": {
     "name": "#%%\n"
    }
   }
  },
  {
   "cell_type": "code",
   "execution_count": 500,
   "outputs": [
    {
     "data": {
      "text/plain": "-5731609340.201782"
     },
     "execution_count": 500,
     "metadata": {},
     "output_type": "execute_result"
    }
   ],
   "source": [
    "score['SSE']-235000000000"
   ],
   "metadata": {
    "collapsed": false,
    "pycharm": {
     "name": "#%%\n"
    }
   }
  },
  {
   "cell_type": "code",
   "execution_count": 41,
   "outputs": [],
   "source": [
    "test_pred_3 = []\n",
    "for i, row in test_df.iterrows():\n",
    "    user = row['user_id']\n",
    "    song = row['song_id']\n",
    "    user_index = users_hash[user]\n",
    "    song_index = songs_hash[song]\n",
    "    test_pred_3.append(max(reduced_R[user_index, song_index], 0))"
   ],
   "metadata": {
    "collapsed": false,
    "pycharm": {
     "name": "#%%\n"
    }
   }
  }
 ],
 "metadata": {
  "kernelspec": {
   "display_name": "Python 3",
   "language": "python",
   "name": "python3"
  },
  "language_info": {
   "codemirror_mode": {
    "name": "ipython",
    "version": 2
   },
   "file_extension": ".py",
   "mimetype": "text/x-python",
   "name": "python",
   "nbconvert_exporter": "python",
   "pygments_lexer": "ipython2",
   "version": "2.7.6"
  }
 },
 "nbformat": 4,
 "nbformat_minor": 0
}