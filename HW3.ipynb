{
 "cells": [
  {
   "cell_type": "code",
   "execution_count": 1,
   "metadata": {
    "collapsed": true,
    "pycharm": {
     "name": "#%%\n"
    }
   },
   "outputs": [],
   "source": [
    "import random\n",
    "import pandas as pd\n",
    "import numpy as np\n",
    "import numpy.linalg as la\n",
    "import scipy.sparse as sp\n",
    "import sklearn.preprocessing\n",
    "from scipy.sparse.linalg import svds\n",
    "from sklearn.metrics import mean_squared_error as MSE\n",
    "import matplotlib.pyplot as plt\n",
    "import itertools\n",
    "import scipy.sparse.linalg as spla\n",
    "from sklearn.preprocessing import MinMaxScaler\n",
    "from scipy.sparse import coo_matrix, csr_matrix, csc_matrix\n",
    "from scipy.sparse.linalg import lsqr\n",
    "\n",
    "\n",
    "\n",
    "df = pd.read_csv('user_song.csv')\n",
    "test_df = pd.read_csv('test.csv')\n",
    "train_users = df.iloc[:, 0].unique().tolist()\n",
    "train_songs = df.iloc[:, 1].unique().tolist()\n",
    "train_couples = list(zip(df.iloc[:, 0], df.iloc[:, 1]))\n",
    "\n",
    "test_users = test_df.iloc[:, 0].unique().tolist()\n",
    "test_songs = test_df.iloc[:, 1].unique().tolist()\n",
    "test_couples = list(zip(test_df.iloc[:, 0], test_df.iloc[:, 1]))\n",
    "\n",
    "all_users = list(set(train_users + test_users))\n",
    "all_songs = list(set(train_songs + test_songs))\n",
    "all_couples = list(itertools.product(all_users, all_songs))\n",
    "new_couples = list(set(all_couples) - set(train_couples) - set(test_couples))"
   ]
  },
  {
   "cell_type": "code",
   "execution_count": 82,
   "outputs": [],
   "source": [
    "attempt = pd.read_csv('user_song.csv')"
   ],
   "metadata": {
    "collapsed": false,
    "pycharm": {
     "name": "#%%\n"
    }
   }
  },
  {
   "cell_type": "code",
   "execution_count": null,
   "outputs": [],
   "source": [],
   "metadata": {
    "collapsed": false,
    "pycharm": {
     "name": "#%%\n"
    }
   }
  },
  {
   "cell_type": "code",
   "execution_count": 83,
   "outputs": [
    {
     "ename": "AttributeError",
     "evalue": "module 'numpy' has no attribute 'int'",
     "output_type": "error",
     "traceback": [
      "\u001B[1;31m---------------------------------------------------------------------------\u001B[0m",
      "\u001B[1;31mAttributeError\u001B[0m                            Traceback (most recent call last)",
      "\u001B[1;32m<ipython-input-83-08f65b7e57cc>\u001B[0m in \u001B[0;36m<module>\u001B[1;34m\u001B[0m\n\u001B[0;32m      1\u001B[0m \u001B[1;32mfrom\u001B[0m \u001B[0msklearn\u001B[0m\u001B[1;33m.\u001B[0m\u001B[0mmodel_selection\u001B[0m \u001B[1;32mimport\u001B[0m \u001B[0mKFold\u001B[0m\u001B[1;33m\u001B[0m\u001B[1;33m\u001B[0m\u001B[0m\n\u001B[0;32m      2\u001B[0m \u001B[0mcross_validation\u001B[0m \u001B[1;33m=\u001B[0m \u001B[0mKFold\u001B[0m\u001B[1;33m(\u001B[0m\u001B[0mn_splits\u001B[0m\u001B[1;33m=\u001B[0m\u001B[1;36m2\u001B[0m\u001B[1;33m)\u001B[0m\u001B[1;33m\u001B[0m\u001B[1;33m\u001B[0m\u001B[0m\n\u001B[1;32m----> 3\u001B[1;33m \u001B[1;32mfor\u001B[0m \u001B[0mt\u001B[0m\u001B[1;33m,\u001B[0m\u001B[0mtst\u001B[0m\u001B[1;33m,\u001B[0m \u001B[1;32min\u001B[0m \u001B[0mcross_validation\u001B[0m\u001B[1;33m.\u001B[0m\u001B[0msplit\u001B[0m\u001B[1;33m(\u001B[0m\u001B[0mattempt\u001B[0m\u001B[1;33m)\u001B[0m\u001B[1;33m:\u001B[0m\u001B[1;33m\u001B[0m\u001B[1;33m\u001B[0m\u001B[0m\n\u001B[0m\u001B[0;32m      4\u001B[0m     \u001B[0mtrain\u001B[0m\u001B[1;33m,\u001B[0m\u001B[0mtest\u001B[0m \u001B[1;33m=\u001B[0m \u001B[0mattempt\u001B[0m\u001B[1;33m[\u001B[0m\u001B[0mt\u001B[0m\u001B[1;33m]\u001B[0m\u001B[1;33m,\u001B[0m\u001B[0mattempt\u001B[0m\u001B[1;33m[\u001B[0m\u001B[0mtst\u001B[0m\u001B[1;33m]\u001B[0m\u001B[1;33m\u001B[0m\u001B[1;33m\u001B[0m\u001B[0m\n\u001B[0;32m      5\u001B[0m     \u001B[0mprint\u001B[0m\u001B[1;33m(\u001B[0m\u001B[0mtrain\u001B[0m\u001B[1;33m)\u001B[0m\u001B[1;33m\u001B[0m\u001B[1;33m\u001B[0m\u001B[0m\n",
      "\u001B[1;32m~\\anaconda3\\lib\\site-packages\\sklearn\\model_selection\\_split.py\u001B[0m in \u001B[0;36msplit\u001B[1;34m(self, X, y, groups)\u001B[0m\n\u001B[0;32m    334\u001B[0m         \u001B[0mYields\u001B[0m\u001B[1;33m\u001B[0m\u001B[1;33m\u001B[0m\u001B[0m\n\u001B[0;32m    335\u001B[0m         \u001B[1;33m-\u001B[0m\u001B[1;33m-\u001B[0m\u001B[1;33m-\u001B[0m\u001B[1;33m-\u001B[0m\u001B[1;33m-\u001B[0m\u001B[1;33m-\u001B[0m\u001B[1;33m\u001B[0m\u001B[1;33m\u001B[0m\u001B[0m\n\u001B[1;32m--> 336\u001B[1;33m         \u001B[0mtrain\u001B[0m \u001B[1;33m:\u001B[0m \u001B[0mndarray\u001B[0m\u001B[1;33m\u001B[0m\u001B[1;33m\u001B[0m\u001B[0m\n\u001B[0m\u001B[0;32m    337\u001B[0m             \u001B[0mThe\u001B[0m \u001B[0mtraining\u001B[0m \u001B[0mset\u001B[0m \u001B[0mindices\u001B[0m \u001B[1;32mfor\u001B[0m \u001B[0mthat\u001B[0m \u001B[0msplit\u001B[0m\u001B[1;33m.\u001B[0m\u001B[1;33m\u001B[0m\u001B[1;33m\u001B[0m\u001B[0m\n\u001B[0;32m    338\u001B[0m \u001B[1;33m\u001B[0m\u001B[0m\n",
      "\u001B[1;32m~\\anaconda3\\lib\\site-packages\\sklearn\\model_selection\\_split.py\u001B[0m in \u001B[0;36msplit\u001B[1;34m(self, X, y, groups)\u001B[0m\n\u001B[0;32m     78\u001B[0m             \u001B[0mThe\u001B[0m \u001B[0mtraining\u001B[0m \u001B[0mset\u001B[0m \u001B[0mindices\u001B[0m \u001B[1;32mfor\u001B[0m \u001B[0mthat\u001B[0m \u001B[0msplit\u001B[0m\u001B[1;33m.\u001B[0m\u001B[1;33m\u001B[0m\u001B[1;33m\u001B[0m\u001B[0m\n\u001B[0;32m     79\u001B[0m \u001B[1;33m\u001B[0m\u001B[0m\n\u001B[1;32m---> 80\u001B[1;33m         \u001B[0mtest\u001B[0m \u001B[1;33m:\u001B[0m \u001B[0mndarray\u001B[0m\u001B[1;33m\u001B[0m\u001B[1;33m\u001B[0m\u001B[0m\n\u001B[0m\u001B[0;32m     81\u001B[0m             \u001B[0mThe\u001B[0m \u001B[0mtesting\u001B[0m \u001B[0mset\u001B[0m \u001B[0mindices\u001B[0m \u001B[1;32mfor\u001B[0m \u001B[0mthat\u001B[0m \u001B[0msplit\u001B[0m\u001B[1;33m.\u001B[0m\u001B[1;33m\u001B[0m\u001B[1;33m\u001B[0m\u001B[0m\n\u001B[0;32m     82\u001B[0m         \"\"\"\n",
      "\u001B[1;32m~\\anaconda3\\lib\\site-packages\\sklearn\\model_selection\\_split.py\u001B[0m in \u001B[0;36m_iter_test_masks\u001B[1;34m(self, X, y, groups)\u001B[0m\n\u001B[0;32m     90\u001B[0m     \u001B[1;31m# Since subclasses must implement either _iter_test_masks or\u001B[0m\u001B[1;33m\u001B[0m\u001B[1;33m\u001B[0m\u001B[1;33m\u001B[0m\u001B[0m\n\u001B[0;32m     91\u001B[0m     \u001B[1;31m# _iter_test_indices, neither can be abstract.\u001B[0m\u001B[1;33m\u001B[0m\u001B[1;33m\u001B[0m\u001B[1;33m\u001B[0m\u001B[0m\n\u001B[1;32m---> 92\u001B[1;33m     \u001B[1;32mdef\u001B[0m \u001B[0m_iter_test_masks\u001B[0m\u001B[1;33m(\u001B[0m\u001B[0mself\u001B[0m\u001B[1;33m,\u001B[0m \u001B[0mX\u001B[0m\u001B[1;33m=\u001B[0m\u001B[1;32mNone\u001B[0m\u001B[1;33m,\u001B[0m \u001B[0my\u001B[0m\u001B[1;33m=\u001B[0m\u001B[1;32mNone\u001B[0m\u001B[1;33m,\u001B[0m \u001B[0mgroups\u001B[0m\u001B[1;33m=\u001B[0m\u001B[1;32mNone\u001B[0m\u001B[1;33m)\u001B[0m\u001B[1;33m:\u001B[0m\u001B[1;33m\u001B[0m\u001B[1;33m\u001B[0m\u001B[0m\n\u001B[0m\u001B[0;32m     93\u001B[0m         \"\"\"Generates boolean masks corresponding to test sets.\n\u001B[0;32m     94\u001B[0m \u001B[1;33m\u001B[0m\u001B[0m\n",
      "\u001B[1;32m~\\anaconda3\\lib\\site-packages\\sklearn\\model_selection\\_split.py\u001B[0m in \u001B[0;36m_iter_test_indices\u001B[1;34m(self, X, y, groups)\u001B[0m\n\u001B[0;32m    441\u001B[0m     \u001B[0mStratifiedKFold\u001B[0m \u001B[1;33m:\u001B[0m \u001B[0mTakes\u001B[0m \u001B[1;32mclass\u001B[0m \u001B[0minformation\u001B[0m \u001B[0minto\u001B[0m \u001B[0maccount\u001B[0m \u001B[0mto\u001B[0m \u001B[0mavoid\u001B[0m \u001B[0mbuilding\u001B[0m\u001B[1;33m\u001B[0m\u001B[1;33m\u001B[0m\u001B[0m\n\u001B[0;32m    442\u001B[0m         folds with imbalanced class distributions (for binary or multiclass\n\u001B[1;32m--> 443\u001B[1;33m         classification tasks).\n\u001B[0m\u001B[0;32m    444\u001B[0m \u001B[1;33m\u001B[0m\u001B[0m\n\u001B[0;32m    445\u001B[0m     \u001B[0mGroupKFold\u001B[0m \u001B[1;33m:\u001B[0m \u001B[0mK\u001B[0m\u001B[1;33m-\u001B[0m\u001B[0mfold\u001B[0m \u001B[0miterator\u001B[0m \u001B[0mvariant\u001B[0m \u001B[1;32mwith\u001B[0m \u001B[0mnon\u001B[0m\u001B[1;33m-\u001B[0m\u001B[0moverlapping\u001B[0m \u001B[0mgroups\u001B[0m\u001B[1;33m.\u001B[0m\u001B[1;33m\u001B[0m\u001B[1;33m\u001B[0m\u001B[0m\n",
      "\u001B[1;32m~\\anaconda3\\lib\\site-packages\\numpy\\__init__.py\u001B[0m in \u001B[0;36m__getattr__\u001B[1;34m(attr)\u001B[0m\n\u001B[0;32m    282\u001B[0m \u001B[1;33m\u001B[0m\u001B[0m\n\u001B[0;32m    283\u001B[0m             \u001B[1;32mdef\u001B[0m \u001B[0m_expired\u001B[0m\u001B[1;33m(\u001B[0m\u001B[1;33m*\u001B[0m\u001B[0margs\u001B[0m\u001B[1;33m,\u001B[0m \u001B[1;33m**\u001B[0m\u001B[0mkwds\u001B[0m\u001B[1;33m)\u001B[0m\u001B[1;33m:\u001B[0m\u001B[1;33m\u001B[0m\u001B[1;33m\u001B[0m\u001B[0m\n\u001B[1;32m--> 284\u001B[1;33m                 \u001B[1;32mraise\u001B[0m \u001B[0mRuntimeError\u001B[0m\u001B[1;33m(\u001B[0m\u001B[0mmsg\u001B[0m\u001B[1;33m)\u001B[0m\u001B[1;33m\u001B[0m\u001B[1;33m\u001B[0m\u001B[0m\n\u001B[0m\u001B[0;32m    285\u001B[0m \u001B[1;33m\u001B[0m\u001B[0m\n\u001B[0;32m    286\u001B[0m             \u001B[1;32mreturn\u001B[0m \u001B[0m_expired\u001B[0m\u001B[1;33m\u001B[0m\u001B[1;33m\u001B[0m\u001B[0m\n",
      "\u001B[1;31mAttributeError\u001B[0m: module 'numpy' has no attribute 'int'"
     ]
    }
   ],
   "source": [
    "from sklearn.model_selection import KFold\n",
    "cross_validation = KFold(n_splits=2)\n",
    "for t,tst, in cross_validation.split(attempt):\n",
    "    train,test = attempt[t],attempt[tst]\n",
    "    print(train)\n",
    "    break"
   ],
   "metadata": {
    "collapsed": false,
    "pycharm": {
     "name": "#%%\n"
    }
   }
  },
  {
   "cell_type": "markdown",
   "source": [
    "# Part 1 - Least Squares"
   ],
   "metadata": {
    "collapsed": false,
    "pycharm": {
     "name": "#%% md\n"
    }
   }
  },
  {
   "cell_type": "code",
   "execution_count": 2,
   "outputs": [
    {
     "data": {
      "text/plain": "733.3121758765291"
     },
     "execution_count": 2,
     "metadata": {},
     "output_type": "execute_result"
    }
   ],
   "source": [
    "n = df.shape[0]\n",
    "m = n + len(new_couples)\n",
    "avg = df.iloc[:, 2].mean()\n",
    "avg"
   ],
   "metadata": {
    "collapsed": false,
    "pycharm": {
     "name": "#%%\n"
    }
   }
  },
  {
   "cell_type": "code",
   "execution_count": 3,
   "outputs": [
    {
     "data": {
      "text/plain": "(17932, 4865)"
     },
     "execution_count": 3,
     "metadata": {},
     "output_type": "execute_result"
    }
   ],
   "source": [
    "num_users = len(all_users)  # Number of users\n",
    "num_songs = len(all_songs)  # Number of songs\n",
    "num_songs, num_users"
   ],
   "metadata": {
    "collapsed": false,
    "pycharm": {
     "name": "#%%\n"
    }
   }
  },
  {
   "cell_type": "code",
   "execution_count": 60,
   "outputs": [
    {
     "data": {
      "text/plain": "[655360,\n 0,\n 1,\n 3,\n 4,\n 5,\n 950278,\n 6,\n 7,\n 204809,\n 8,\n 9,\n 720908,\n 10,\n 303118,\n 11,\n 12,\n 13,\n 14,\n 15,\n 16,\n 17,\n 18,\n 19,\n 466968,\n 20,\n 335898,\n 21,\n 753692,\n 22,\n 23,\n 24,\n 25,\n 548897,\n 26,\n 27,\n 90148,\n 983077,\n 32806,\n 835622,\n 31,\n 32,\n 33,\n 34,\n 35,\n 32813,\n 614445,\n 38,\n 39,\n 40,\n 41,\n 42,\n 32820,\n 44,\n 45,\n 46,\n 47,\n 48,\n 49,\n 50,\n 51,\n 52,\n 352318,\n 54,\n 55,\n 352321,\n 57,\n 58,\n 59,\n 60,\n 540742,\n 62,\n 63,\n 64,\n 65,\n 66,\n 67,\n 68,\n 69,\n 70,\n 71,\n 72,\n 73,\n 74,\n 75,\n 76,\n 77,\n 78,\n 79,\n 80,\n 131162,\n 82,\n 827484,\n 811101,\n 85,\n 86,\n 87,\n 88,\n 89,\n 770147,\n 91,\n 92,\n 93,\n 147559,\n 95,\n 96,\n 97,\n 98,\n 99,\n 100,\n 101,\n 303215,\n 103,\n 104,\n 105,\n 106,\n 819316,\n 108,\n 109,\n 802935,\n 111,\n 112,\n 113,\n 114,\n 115,\n 116,\n 983166,\n 118,\n 119,\n 120,\n 121,\n 122,\n 123,\n 204933,\n 680069,\n 843911,\n 950407,\n 128,\n 129,\n 130,\n 131,\n 28,\n 133,\n 134,\n 135,\n 145,\n 721041,\n 29,\n 139,\n 140,\n 141,\n 180375,\n 30,\n 144,\n 146,\n 147,\n 148,\n 149,\n 150,\n 196767,\n 229536,\n 152,\n 688290,\n 958627,\n 155,\n 155813,\n 157,\n 158,\n 159,\n 160,\n 161,\n 162,\n 163,\n 164,\n 786606,\n 90287,\n 475311,\n 168,\n 169,\n 170,\n 171,\n 581813,\n 36,\n 909495,\n 175,\n 176,\n 177,\n 37,\n 179,\n 180,\n 181,\n 182,\n 183,\n 184,\n 185,\n 186,\n 187,\n 188,\n 189,\n 16583,\n 191,\n 499913,\n 193,\n 194,\n 991436,\n 196,\n 197,\n 198,\n 199,\n 200,\n 201,\n 211,\n 203,\n 204,\n 205,\n 206,\n 207,\n 43,\n 209,\n 210,\n 499932,\n 212,\n 213,\n 647391,\n 215,\n 216,\n 217,\n 218,\n 483556,\n 220,\n 221,\n 24807,\n 147687,\n 360679,\n 225,\n 999659,\n 729324,\n 228,\n 229,\n 230,\n 231,\n 232,\n 233,\n 234,\n 235,\n 236,\n 237,\n 106743,\n 239,\n 240,\n 237818,\n 114939,\n 243,\n 244,\n 540926,\n 721150,\n 247,\n 248,\n 249,\n 434435,\n 147716,\n 73989,\n 614659,\n 254,\n 90376,\n 256,\n 257,\n 53,\n 259,\n 260,\n 261,\n 262,\n 263,\n 745745,\n 265,\n 266,\n 631060,\n 696596,\n 655638,\n 475415,\n 975124,\n 360729,\n 56,\n 274,\n 275,\n 276,\n 277,\n 278,\n 279,\n 74017,\n 281,\n 282,\n 283,\n 284,\n 285,\n 164135,\n 287,\n 288,\n 289,\n 290,\n 291,\n 292,\n 278830,\n 294,\n 295,\n 296,\n 297,\n 61,\n 299,\n 300,\n 301,\n 302,\n 303,\n 304,\n 305,\n 306,\n 123196,\n 901436,\n 309,\n 310,\n 311,\n 312,\n 313,\n 344387,\n 315,\n 24901,\n 82245,\n 318,\n 319,\n 320,\n 321,\n 672075,\n 323,\n 655693,\n 325,\n 326,\n 327,\n 328,\n 329,\n 778579,\n 331,\n 332,\n 333,\n 368983,\n 335,\n 336,\n 337,\n 338,\n 339,\n 340,\n 341,\n 704863,\n 343,\n 33121,\n 345,\n 346,\n 347,\n 348,\n 349,\n 350,\n 351,\n 352,\n 876906,\n 98667,\n 355,\n 356,\n 357,\n 358,\n 359,\n 360,\n 295282,\n 362,\n 459124,\n 622964,\n 106869,\n 366,\n 367,\n 368,\n 369,\n 370,\n 901500,\n 372,\n 373,\n 374,\n 376,\n 377,\n 378,\n 33155,\n 393604,\n 380,\n 381,\n 382,\n 383,\n 983433,\n 385,\n 386,\n 387,\n 388,\n 389,\n 860559,\n 391,\n 392,\n 622994,\n 394,\n 395,\n 396,\n 397,\n 655767,\n 549272,\n 81,\n 401,\n 402,\n 403,\n 404,\n 983454,\n 406,\n 407,\n 408,\n 83,\n 410,\n 411,\n 412,\n 803238,\n 84,\n 415,\n 197033,\n 852394,\n 418,\n 419,\n 420,\n 278958,\n 422,\n 423,\n 425,\n 426,\n 427,\n 428,\n 429,\n 430,\n 431,\n 432,\n 433,\n 434,\n 385467,\n 435,\n 436,\n 437,\n 438,\n 439,\n 440,\n 441,\n 442,\n 443,\n 90,\n 445,\n 446,\n 447,\n 448,\n 449,\n 450,\n 680396,\n 452,\n 453,\n 454,\n 455,\n 456,\n 457,\n 606675,\n 459,\n 460,\n 461,\n 462,\n 463,\n 94,\n 25050,\n 737755,\n 467,\n 500189,\n 469,\n 470,\n 471,\n 472,\n 473,\n 474,\n 475,\n 476,\n 385510,\n 377319,\n 360936,\n 480,\n 877034,\n 482,\n 483,\n 484,\n 485,\n 486,\n 487,\n 488,\n 489,\n 490,\n 491,\n 492,\n 508406,\n 494,\n 495,\n 496,\n 497,\n 498,\n 499,\n 197117,\n 501,\n 502,\n 131584,\n 504,\n 909826,\n 102,\n 507,\n 508,\n 509,\n 510,\n 511,\n 512,\n 513,\n 514,\n 515,\n 516,\n 517,\n 518,\n 519,\n 614929,\n 521,\n 500243,\n 8724,\n 524,\n 525,\n 526,\n 527,\n 528,\n 529,\n 107,\n 531,\n 532,\n 606750,\n 534,\n 535,\n 536,\n 537,\n 538,\n 539,\n 540,\n 541,\n 999975,\n 533032,\n 544,\n 110,\n 546,\n 547,\n 123437,\n 516653,\n 254511,\n 551,\n 552,\n 553,\n 554,\n 16948,\n 549429,\n 557,\n 558,\n 559,\n 560,\n 561,\n 562,\n 483900,\n 564,\n 565,\n 566,\n 567,\n 568,\n 569,\n 25155,\n 571,\n 572,\n 90694,\n 574,\n 575,\n 576,\n 918090,\n 578,\n 579,\n 926285,\n 117,\n 393807,\n 583,\n 584,\n 585,\n 586,\n 587,\n 588,\n 589,\n 590,\n 591,\n 592,\n 593,\n 287323,\n 595,\n 596,\n 597,\n 598,\n 599,\n 600,\n 279138,\n 57955,\n 603,\n 604,\n 49766,\n 606,\n 607,\n 608,\n 609,\n 610,\n 611,\n 612,\n 613,\n 229999,\n 696944,\n 124,\n 107122,\n 618,\n 619,\n 125,\n 621,\n 622,\n 623,\n 624,\n 983674,\n 126,\n 98940,\n 295548,\n 629,\n 127,\n 631,\n 459393,\n 633,\n 634,\n 635,\n 636,\n 637,\n 638,\n 639,\n 361097,\n 443018,\n 642,\n 643,\n 644,\n 645,\n 646,\n 574096,\n 648,\n 649,\n 650,\n 705172,\n 549525,\n 653,\n 654,\n 655,\n 132,\n 657,\n 658,\n 659,\n 660,\n 661,\n 662,\n 663,\n 664,\n 665,\n 666,\n 508580,\n 668,\n 669,\n 287399,\n 671,\n 672,\n 673,\n 172715,\n 675,\n 136,\n 677,\n 678,\n 679,\n 680,\n 82610,\n 598707,\n 137,\n 684,\n 685,\n 901815,\n 33464,\n 74425,\n 656056,\n 138,\n 691,\n 869053,\n 623294,\n 762558,\n 695,\n 696,\n 697,\n 698,\n 8900,\n 58052,\n 701,\n 702,\n 703,\n 238281,\n 656073,\n 142,\n 707,\n 708,\n 541390,\n 778959,\n 143,\n 712,\n 713,\n 714,\n 715,\n 716,\n 717,\n 718,\n 189144,\n 720,\n 721,\n 722,\n 877276,\n 724,\n 725,\n 726,\n 727,\n 728,\n 729,\n 393955,\n 731,\n 732,\n 733,\n 734,\n 735,\n 736,\n 737,\n 738,\n 739,\n 740,\n 741,\n 742,\n 541424,\n 744,\n 745,\n 746,\n 747,\n 748,\n 336630,\n 750,\n 151,\n 752,\n 753,\n 721659,\n 755,\n 756,\n 757,\n 533247,\n 759,\n 760,\n 606978,\n 153,\n 763,\n 764,\n 320262,\n 154,\n 767,\n 768,\n 769,\n 770,\n 771,\n 772,\n 238350,\n 774,\n 775,\n 156,\n 777,\n 778,\n 779,\n 780,\n 781,\n 782,\n 680728,\n 784,\n 785,\n 680731,\n 17180,\n 788,\n 789,\n 790,\n 791,\n 792,\n 803618,\n 794,\n 795,\n 796,\n 797,\n 25383,\n 213799,\n 800,\n 801,\n 802,\n 607020,\n 910124,\n 805,\n 492335,\n 807,\n 808,\n 809,\n 810,\n 811,\n 812,\n 813,\n 814,\n 320312,\n 816,\n 377658,\n 508730,\n 819,\n 820,\n 821,\n 165,\n 823,\n 824,\n 825,\n 826,\n 166,\n 828,\n 829,\n 830,\n 831,\n 167,\n 9034,\n 820043,\n 835,\n 836,\n 837,\n 838,\n 839,\n 615249,\n 590674,\n 842,\n 843,\n 844,\n 33622,\n 846,\n 847,\n 848,\n 849,\n 850,\n 851,\n 836445,\n 853,\n 854,\n 855,\n 856,\n 172,\n 858,\n 213860,\n 860,\n 861,\n 173,\n 863,\n 672617,\n 866,\n 867,\n 174,\n 868,\n 869,\n 870,\n 9072,\n 623472,\n 873,\n 874,\n 729972,\n 876,\n 877,\n 878,\n 879,\n 880,\n 881,\n 882,\n 883,\n 884,\n 885,\n 886,\n 385920,\n 178,\n 889,\n 508803,\n 891,\n 892,\n 238470,\n 894,\n 895,\n 713609,\n 926602,\n 898,\n 899,\n 900,\n 901,\n 902,\n 508816,\n 904,\n 905,\n 907,\n 908,\n 909,\n 910,\n 911,\n 912,\n 913,\n 914,\n 369563,\n 779163,\n 916,\n 917,\n 918,\n 919,\n 920,\n 921,\n 836515,\n 923,\n 924,\n 925,\n 926,\n 927,\n 928,\n 929,\n 828331,\n 197548,\n 713644,\n 271278,\n 926638,\n 983979,\n 936,\n 937,\n 938,\n 939,\n 940,\n 941,\n 942,\n 492472,\n 50105,\n 738233,\n 946,\n 639932,\n 190,\n 949,\n 132031,\n 951,\n 952,\n 953,\n 954,\n 955,\n 956,\n 957,\n 192,\n 328648,\n 960,\n 961,\n 962,\n 963,\n 615373,\n 965,\n 966,\n 181200,\n 968,\n 969,\n 970,\n 971,\n 972,\n 195,\n 974,\n 975,\n 787417,\n 977,\n 476123,\n 893916,\n 980,\n 981,\n 982,\n 983,\n 984,\n 985,\n 986,\n 987,\n 988,\n 943078,\n 787431,\n ...]"
     },
     "execution_count": 60,
     "metadata": {},
     "output_type": "execute_result"
    }
   ],
   "source": [
    "all_users"
   ],
   "metadata": {
    "collapsed": false,
    "pycharm": {
     "name": "#%%\n"
    }
   }
  },
  {
   "cell_type": "code",
   "execution_count": 66,
   "outputs": [
    {
     "name": "stdout",
     "output_type": "stream",
     "text": [
      "4221\n"
     ]
    }
   ],
   "source": [
    "# user dictionary\n",
    "users_hash = {}\n",
    "for i, user in enumerate(all_users):\n",
    "    if user == 6135:\n",
    "        print(i)\n",
    "    users_hash[user] = i"
   ],
   "metadata": {
    "collapsed": false,
    "pycharm": {
     "name": "#%%\n"
    }
   }
  },
  {
   "cell_type": "code",
   "execution_count": 54,
   "outputs": [],
   "source": [
    "# song dictionary\n",
    "songs_hash = {}\n",
    "for j, song in enumerate(all_songs):\n",
    "    songs_hash[song] = j + num_users"
   ],
   "metadata": {
    "collapsed": false,
    "pycharm": {
     "name": "#%%\n"
    }
   }
  },
  {
   "cell_type": "code",
   "execution_count": 73,
   "outputs": [
    {
     "data": {
      "text/plain": "array([[50, 10],\n       [20, 30],\n       [60, 40]], dtype=int64)"
     },
     "execution_count": 73,
     "metadata": {},
     "output_type": "execute_result"
    }
   ],
   "source": [
    "import pandas as pd\n",
    "\n",
    "attempt = pd.DataFrame({'row_num': [ 1, 2, 2, 3,1,3],\n",
    "                   'col_num': [ 'B', 'A', 'B', 'B','A','A'],\n",
    "                   'value': [10, 20, 30, 40, 50, 60]})\n",
    "attempt.pivot(index='row_num', columns='col_num', values='value').to_numpy()"
   ],
   "metadata": {
    "collapsed": false,
    "pycharm": {
     "name": "#%%\n"
    }
   }
  },
  {
   "cell_type": "markdown",
   "source": [
    "## creating the A and c\n",
    "\\begin{equation}\n",
    "\\hat{b} = \\arg\\min_{b} \\|Ab - c\\|^2\n",
    "\\end{equation}"
   ],
   "metadata": {
    "collapsed": false,
    "pycharm": {
     "name": "#%% md\n"
    }
   }
  },
  {
   "cell_type": "code",
   "execution_count": 6,
   "outputs": [],
   "source": [
    "train_users, train_songs = df['user_id'].map(users_hash).values, df['song_id'].map(songs_hash).values\n",
    "merged_train = np.column_stack((train_users, train_songs)).reshape(-1)\n",
    "A_cols = merged_train"
   ],
   "metadata": {
    "collapsed": false,
    "pycharm": {
     "name": "#%%\n"
    }
   }
  },
  {
   "cell_type": "code",
   "execution_count": 7,
   "outputs": [],
   "source": [
    "rows1, rows2 = np.arange(int(0.5 * len(A_cols))), np.arange(int(0.5 * len(A_cols)))\n",
    "A_rows = np.column_stack((rows1, rows2)).reshape(-1)"
   ],
   "metadata": {
    "collapsed": false,
    "pycharm": {
     "name": "#%%\n"
    }
   }
  },
  {
   "cell_type": "code",
   "execution_count": 8,
   "outputs": [],
   "source": [
    "values = np.ones(len(A_rows))"
   ],
   "metadata": {
    "collapsed": false,
    "pycharm": {
     "name": "#%%\n"
    }
   }
  },
  {
   "cell_type": "code",
   "execution_count": 9,
   "outputs": [],
   "source": [
    "A = coo_matrix((values, (A_rows, A_cols)),\n",
    "               shape=(int(0.5 * len(A_cols)), len(all_users) + len(all_songs))).tocsr()\n",
    "c = df['weight'].values - avg"
   ],
   "metadata": {
    "collapsed": false,
    "pycharm": {
     "name": "#%%\n"
    }
   }
  },
  {
   "cell_type": "markdown",
   "source": [
    "## Ls"
   ],
   "metadata": {
    "collapsed": false,
    "pycharm": {
     "name": "#%% md\n"
    }
   }
  },
  {
   "cell_type": "code",
   "execution_count": 10,
   "outputs": [],
   "source": [
    "final_b = lsqr(A=A, b=c)\n",
    "final_b = final_b[0]\n",
    "b_u_hat = final_b[:num_users]\n",
    "b_i_hat = final_b[num_users:]"
   ],
   "metadata": {
    "collapsed": false,
    "pycharm": {
     "name": "#%%\n"
    }
   }
  },
  {
   "cell_type": "markdown",
   "source": [
    "## true matrix"
   ],
   "metadata": {
    "collapsed": false,
    "pycharm": {
     "name": "#%% md\n"
    }
   }
  },
  {
   "cell_type": "code",
   "execution_count": 11,
   "outputs": [],
   "source": [
    "songs_hash = {}\n",
    "for j, song in enumerate(all_songs):\n",
    "    songs_hash[song] = j"
   ],
   "metadata": {
    "collapsed": false,
    "pycharm": {
     "name": "#%%\n"
    }
   }
  },
  {
   "cell_type": "code",
   "execution_count": 12,
   "outputs": [],
   "source": [
    "values = df['weight'].values\n",
    "rows = df['user_id'].map(users_hash).values\n",
    "cols = df['song_id'].map(songs_hash).values\n",
    "true_mat = coo_matrix((values, (rows, cols)), shape=(num_users, num_songs)).tocsr()"
   ],
   "metadata": {
    "collapsed": false,
    "pycharm": {
     "name": "#%%\n"
    }
   }
  },
  {
   "cell_type": "code",
   "execution_count": 13,
   "outputs": [],
   "source": [
    "predictions_part1 = true_mat.tolil(copy=True)\n",
    "for tup in zip(rows, cols):\n",
    "    user, song = tup[0], tup[1]\n",
    "    predictions_part1[tup] = max(avg + b_u_hat[user] + b_i_hat[song], 0)\n",
    "predictions_part1 = predictions_part1.tocsr()"
   ],
   "metadata": {
    "collapsed": false,
    "pycharm": {
     "name": "#%%\n"
    }
   }
  },
  {
   "cell_type": "markdown",
   "source": [
    "## Train scores - part 1"
   ],
   "metadata": {
    "collapsed": false,
    "pycharm": {
     "name": "#%% md\n"
    }
   }
  },
  {
   "cell_type": "code",
   "execution_count": 14,
   "outputs": [],
   "source": [
    "def get_score(true, pred, N, arr_type='np'):\n",
    "    score_matrix = (true - pred)\n",
    "    if arr_type == 'sp':\n",
    "        score_matrix = score_matrix.toarray()\n",
    "    return {'SSE': la.norm(score_matrix) ** 2, 'RMSE': ((la.norm(score_matrix) ** 2) / N) ** 0.5}"
   ],
   "metadata": {
    "collapsed": false,
    "pycharm": {
     "name": "#%%\n"
    }
   }
  },
  {
   "cell_type": "code",
   "execution_count": 15,
   "outputs": [
    {
     "name": "stdout",
     "output_type": "stream",
     "text": [
      "RMSE in Part 1 on train set: 3392.5561369842526\n",
      "SSE in Part 1 on train set: 927683652567.0001\n"
     ]
    }
   ],
   "source": [
    "N = df.shape[0]\n",
    "scores_part1 = get_score(true_mat, predictions_part1, N, arr_type='sp')\n",
    "print(f'RMSE in Part 1 on train set: {scores_part1[\"RMSE\"]}\\n'\n",
    "      f'SSE in Part 1 on train set: {scores_part1[\"SSE\"]}')"
   ],
   "metadata": {
    "collapsed": false,
    "pycharm": {
     "name": "#%%\n"
    }
   }
  },
  {
   "cell_type": "markdown",
   "source": [
    "## Test Prediction - part 1"
   ],
   "metadata": {
    "collapsed": false,
    "pycharm": {
     "name": "#%% md\n"
    }
   }
  },
  {
   "cell_type": "code",
   "execution_count": 16,
   "outputs": [],
   "source": [
    "test_users_mapped = test_df['user_id'].map(users_hash).values\n",
    "test_songs_mapped = test_df['song_id'].map(songs_hash).values\n",
    "test_indxs_mapped = list((zip(test_users_mapped, test_songs_mapped)))"
   ],
   "metadata": {
    "collapsed": false,
    "pycharm": {
     "name": "#%%\n"
    }
   }
  },
  {
   "cell_type": "code",
   "execution_count": 17,
   "outputs": [],
   "source": [
    "test_pred_1 = []\n",
    "for idx in test_indxs_mapped:\n",
    "    user, song = idx[0], idx[1]\n",
    "    test_pred_1.append(max(avg + b_u_hat[user] + b_i_hat[song], 0))"
   ],
   "metadata": {
    "collapsed": false,
    "pycharm": {
     "name": "#%%\n"
    }
   }
  },
  {
   "cell_type": "code",
   "execution_count": 39,
   "outputs": [],
   "source": [
    "test_df['predictions'] = test_pred_1\n",
    "test_df.to_csv('C:\\\\Users\\hadar\\Documents\\semester 5\\ecommerce\\Ecommerce_HW3\\\\206567067_318880754_task1.csv',index=False)\n",
    "test_df = test_df.drop('predictions', axis=1)"
   ],
   "metadata": {
    "collapsed": false,
    "pycharm": {
     "name": "#%%\n"
    }
   }
  },
  {
   "cell_type": "markdown",
   "source": [
    "# Part 2 - ALS Method"
   ],
   "metadata": {
    "collapsed": false,
    "pycharm": {
     "name": "#%% md\n"
    }
   }
  },
  {
   "cell_type": "code",
   "execution_count": 18,
   "outputs": [],
   "source": [
    "# user dictionary\n",
    "users_hash = {}\n",
    "for i, user in enumerate(all_users):\n",
    "    users_hash[user] = i"
   ],
   "metadata": {
    "collapsed": false,
    "pycharm": {
     "name": "#%%\n"
    }
   }
  },
  {
   "cell_type": "code",
   "execution_count": 19,
   "outputs": [],
   "source": [
    "# song dictionary\n",
    "songs_hash = {}\n",
    "for j, song in enumerate(all_songs):\n",
    "    songs_hash[song] = j"
   ],
   "metadata": {
    "collapsed": false,
    "pycharm": {
     "name": "#%%\n"
    }
   }
  },
  {
   "cell_type": "code",
   "execution_count": 20,
   "outputs": [
    {
     "data": {
      "text/plain": "(4865, 17932)"
     },
     "execution_count": 20,
     "metadata": {},
     "output_type": "execute_result"
    }
   ],
   "source": [
    "num_users = len(all_users)  # Number of users\n",
    "num_songs = len(all_songs)  # Number of songs\n",
    "num_users, num_songs"
   ],
   "metadata": {
    "collapsed": false,
    "pycharm": {
     "name": "#%%\n"
    }
   }
  },
  {
   "cell_type": "markdown",
   "source": [
    "## create the ratings matrix"
   ],
   "metadata": {
    "collapsed": false,
    "pycharm": {
     "name": "#%% md\n"
    }
   }
  },
  {
   "cell_type": "code",
   "execution_count": 21,
   "outputs": [],
   "source": [
    "# scaler = MinMaxScaler(feature_range=(0, 100))\n",
    "values = df['weight'].values\n",
    "rows = df['user_id'].map(users_hash).values\n",
    "cols = df['song_id'].map(songs_hash).values\n",
    "true_mat = coo_matrix((values, (rows, cols)), shape=(num_users, num_songs)).tocsr()\n",
    "mat_part2 = true_mat.toarray()"
   ],
   "metadata": {
    "collapsed": false,
    "pycharm": {
     "name": "#%%\n"
    }
   }
  },
  {
   "cell_type": "markdown",
   "source": [
    "## ALS model"
   ],
   "metadata": {
    "collapsed": false,
    "pycharm": {
     "name": "#%% md\n"
    }
   }
  },
  {
   "cell_type": "code",
   "execution_count": 22,
   "outputs": [],
   "source": [
    "# alternating least squares step\n",
    "def als_step(latent_vectors, fixed_vecs, ratings, _lambda=0, type='user'):\n",
    "    \"\"\"\n",
    "    One of the two ALS steps. Solve for the latent vectors\n",
    "    specified by type.\n",
    "    \"\"\"\n",
    "    if type == 'user':\n",
    "        # calculating P, Q is fixed\n",
    "        for u in range(latent_vectors.shape[0]):  # iterate over P rows and R Rows\n",
    "            r = ratings[u, :].flatten()\n",
    "            rows_to_remove = np.where(r==0)[0]\n",
    "            clean_r = np.delete(r, rows_to_remove)\n",
    "            mat = np.delete(fixed_vecs, rows_to_remove, axis=0)\n",
    "            latent_vectors[u, :] = la.lstsq(mat, clean_r,rcond=None)[0]\n",
    "    elif type == 'item':\n",
    "        # calculating Q, P is fixed\n",
    "        for i in range(latent_vectors.shape[0]):\n",
    "            # remove rows from\n",
    "            r = ratings[:, i].flatten()\n",
    "            rows_to_remove = np.where(r==0)[0]\n",
    "            clean_r = np.delete(r, rows_to_remove)\n",
    "            mat = np.delete(fixed_vecs, rows_to_remove, axis=0)\n",
    "\n",
    "            latent_vectors[i, :] = la.lstsq(mat,clean_r,rcond=None)[0]\n",
    "    return latent_vectors"
   ],
   "metadata": {
    "collapsed": false,
    "pycharm": {
     "name": "#%%\n"
    }
   }
  },
  {
   "cell_type": "code",
   "execution_count": 23,
   "outputs": [],
   "source": [
    "def als_predict_vecs(k=20,eps=300000):\n",
    "    np.random.seed(0)\n",
    "    new_songs = np.zeros((num_songs, k))\n",
    "    new_users = np.random.randn(num_users,k)\n",
    "    scores_array = list()\n",
    "    start = True\n",
    "    i=1\n",
    "    while start or (scores_array[-2]['SSE'] - scores_array[-1]['SSE']>=eps) :\n",
    "        new_songs = als_step(new_songs,\n",
    "                             new_users,\n",
    "                             mat_part2,\n",
    "                             type='item')\n",
    "        # new_songs = np.maximum(new_songs, 0)\n",
    "        new_users = als_step(new_users,\n",
    "                             new_songs,\n",
    "                             mat_part2,\n",
    "                             type='user')\n",
    "        meantime_pred = predict(new_users, new_songs)\n",
    "        meantime_pred = np.maximum(meantime_pred, 0)\n",
    "        scores_array.append(get_score(mat_part2, meantime_pred, N))\n",
    "        i+=1\n",
    "        if i ==3:\n",
    "            start = False\n",
    "    return new_users, new_songs, scores_array\n"
   ],
   "metadata": {
    "collapsed": false,
    "pycharm": {
     "name": "#%%\n"
    }
   }
  },
  {
   "cell_type": "code",
   "execution_count": 24,
   "outputs": [],
   "source": [
    "# user_matrix,song_matrix = als_predict()\n",
    "def predict(users, songs):\n",
    "    predictions = np.matmul(users, songs.T)\n",
    "    train_indices = list(zip(rows,cols))\n",
    "    mask = np.zeros(predictions.shape,dtype=bool)\n",
    "    for entry in train_indices:\n",
    "        mask[entry]=True\n",
    "    predictions[~mask] = 0\n",
    "    return predictions"
   ],
   "metadata": {
    "collapsed": false,
    "pycharm": {
     "name": "#%%\n"
    }
   }
  },
  {
   "cell_type": "markdown",
   "source": [
    "## Train Prediction - part 2"
   ],
   "metadata": {
    "collapsed": false,
    "pycharm": {
     "name": "#%% md\n"
    }
   }
  },
  {
   "cell_type": "code",
   "execution_count": 25,
   "outputs": [
    {
     "name": "stdout",
     "output_type": "stream",
     "text": [
      "RMSE in Part 2 on train set: 265318262.21470994\n",
      "SSE in Part 2 on train set: 265318262.21470994\n",
      "compared to part 1\n",
      "Improvement of 3335.1827269960277 in the RMSE\n",
      "Improvement of 927418334304.7854 in the SSE\n"
     ]
    }
   ],
   "source": [
    "user_vecs, song_vecs, scores_arr = als_predict_vecs()\n",
    "scores_part2 = scores_arr[-1]['SSE']\n",
    "print(f'RMSE in Part 2 on train set: {scores_part2}\\n'\n",
    "      f'SSE in Part 2 on train set: {scores_part2}\\n'\n",
    "      f'compared to part 1\\n'\n",
    "      f'Improvement of {scores_part1[\"RMSE\"] - scores_arr[-1][\"RMSE\"]} in the RMSE\\n'\n",
    "      f'Improvement of {scores_part1[\"SSE\"] - scores_part2} in the SSE')"
   ],
   "metadata": {
    "collapsed": false,
    "pycharm": {
     "name": "#%%\n"
    }
   }
  },
  {
   "cell_type": "code",
   "execution_count": 25,
   "outputs": [],
   "source": [],
   "metadata": {
    "collapsed": false,
    "pycharm": {
     "name": "#%%\n"
    }
   }
  },
  {
   "cell_type": "markdown",
   "source": [
    "## check the learning curve"
   ],
   "metadata": {
    "collapsed": false,
    "pycharm": {
     "name": "#%% md\n"
    }
   }
  },
  {
   "cell_type": "code",
   "execution_count": 26,
   "outputs": [],
   "source": [
    "RMSE_curve = [d['RMSE'] for d in scores_arr]\n",
    "SSE_curve = [d['SSE'] for d in scores_arr]"
   ],
   "metadata": {
    "collapsed": false,
    "pycharm": {
     "name": "#%%\n"
    }
   }
  },
  {
   "cell_type": "code",
   "execution_count": 27,
   "outputs": [
    {
     "data": {
      "text/plain": "[916.6367700468096,\n 311.3889005460519,\n 223.0734839234272,\n 189.74628386869946,\n 171.10659798881616,\n 158.40272245353816,\n 148.82906293301804,\n 141.32628381443067,\n 135.33675369912538,\n 130.4613491226145,\n 126.40809191799701,\n 122.98010222038916,\n 120.01491804299413,\n 117.39848414780279,\n 115.02434268887822,\n 112.88705470121054,\n 110.94150169979136,\n 109.15664944166473,\n 107.51653318991886,\n 105.99762697146902,\n 104.57875174407711,\n 103.25477724785063,\n 102.0160836932486,\n 100.86130139134089,\n 99.78034458473067,\n 98.76074911161527,\n 97.79546044701272,\n 96.87942796732848,\n 96.00866711386821,\n 95.18284100038817,\n 94.39902448725324,\n 93.64695216055476,\n 92.92938308440591,\n 92.24299298150339,\n 91.5852342425693,\n 90.95540187234424,\n 90.35159936421994,\n 89.77143555798385,\n 89.21281898737264,\n 88.67491150919136,\n 88.15577939606955,\n 87.6544467692365,\n 87.1671144735557,\n 86.69353259079266,\n 86.23424484553914,\n 85.78793433121477,\n 85.35408501647069,\n 84.93167353934905,\n 84.51964270568254,\n 84.11812027776162,\n 83.72699194196022,\n 83.34561862276105,\n 82.97381125810138,\n 82.61106214042204,\n 82.25728034766715,\n 81.91200493380742,\n 81.57412494596349,\n 81.24412974751053,\n 80.92148454911681,\n 80.60645920437582,\n 80.29881824574467,\n 79.99723606842993,\n 79.7012892193324,\n 79.41139537476158,\n 79.12735708793167,\n 78.84921076584997,\n 78.57665132737151,\n 78.3097499042002,\n 78.04773198563916,\n 77.79054763543786,\n 77.53796314411946,\n 77.29005228968744,\n 77.0467292005529,\n 76.80775841185759,\n 76.57279243686204,\n 76.34182864168707,\n 76.11494690985356,\n 75.89155484580118,\n 75.67169394365301,\n 75.45516339220542,\n 75.241835832603,\n 75.03211788459468,\n 74.82556969443829,\n 74.62234407071116,\n 74.42254313009789,\n 74.22605465140917,\n 74.0327312795929,\n 73.84202344632249,\n 73.65386041044435,\n 73.46855285324196,\n 73.28606961496288,\n 73.10660410335446,\n 72.93015067822857,\n 72.75547351306425,\n 72.58357006986812,\n 72.41453112424027,\n 72.24825409297102,\n 72.08412338983887,\n 71.92208324813896,\n 71.76255974015308,\n 71.60529035075807,\n 71.45033410767618,\n 71.2975682215886,\n 71.14682670582985,\n 70.99808973646246,\n 70.85119265165127,\n 70.70627005848488,\n 70.56303056304075,\n 70.42176106611514,\n 70.28207958088245,\n 70.14418990351058,\n 70.00790057777334,\n 69.87310840746675,\n 69.7397598559957,\n 69.60753783266573,\n 69.4740239574956,\n 69.3433449681631,\n 69.21499795204551,\n 69.08859952882324,\n 68.96389612128186,\n 68.84072719729981,\n 68.71906876643406,\n 68.59901747805922,\n 68.4805110947351,\n 68.36358208408667,\n 68.24828313105446,\n 68.13493861696585,\n 68.02221979135795,\n 67.91086523488134,\n 67.80106173396562,\n 67.69278805430085,\n 67.58606121293916,\n 67.48065591241661,\n 67.37663025835586,\n 67.27385986568783,\n 67.17228397800655,\n 67.07191448908522,\n 66.97275646699369,\n 66.87470447435591,\n 66.77771982406743,\n 66.6816968038417,\n 66.58675488286585,\n 66.49301201648137,\n 66.40033062634845,\n 66.30869659443837,\n 66.21800403052492,\n 66.12825056831282,\n 66.0394331596769,\n 65.95149093466651,\n 65.86427174608882,\n 65.77778989006313,\n 65.69213729089701,\n 65.6072972975052,\n 65.52314293517487,\n 65.43969590488766,\n 65.35701979931444,\n 65.27500267303539,\n 65.19354208896075,\n 65.11266722282076,\n 65.03245224174533,\n 64.95281785082192,\n 64.87377213168794,\n 64.79509783073604,\n 64.71688364095556,\n 64.63911259562073,\n 64.56174183679586,\n 64.48472828787762,\n 64.4079604238505,\n 64.33164626506611,\n 64.25595201613378,\n 64.18096059775024,\n 64.10667907105599,\n 64.03309827952847,\n 63.960162478589034,\n 63.88781982057198,\n 63.81570372942435,\n 63.74413109938558,\n 63.67308729353311,\n 63.60258001431286,\n 63.53265381843911,\n 63.46328316218866,\n 63.39446054962386,\n 63.326143202572226,\n 63.258288160988805,\n 63.190866041846164,\n 63.12384043392881,\n 63.05714142373782,\n 62.99080014843573,\n 62.924892024641075,\n 62.859515896620465,\n 62.79470460942089,\n 62.73042401803838,\n 62.666607804042584,\n 62.60312783972877,\n 62.539855515953604,\n 62.47664899897341,\n 62.41337258642598,\n 62.35021848763077,\n 62.28785497723939,\n 62.22641024822752,\n 62.16576565984213,\n 62.10572831320439,\n 62.046282167404,\n 61.98736153803309,\n 61.92891310640527,\n 61.87094180448935,\n 61.81340427261331,\n 61.7563151032135,\n 61.69961269107137,\n 61.643245525162385,\n 61.587298163260115,\n 61.53174556648736,\n 61.47659710827108,\n 61.42182118303052,\n 61.36738367668491,\n 61.31322408071433,\n 61.25942072618165,\n 61.20594470421206,\n 61.152857385873375,\n 61.10016799634845,\n 61.04778693552854,\n 60.995766550370014,\n 60.94408943725205,\n 60.89275638205901,\n 60.84175718340925,\n 60.791008208005096,\n 60.74053133010527,\n 60.690349733577406,\n 60.640434219274354,\n 60.59053069999239,\n 60.5408532910096,\n 60.491462326005326,\n 60.442364510065865,\n 60.39357287236828,\n 60.34508900044855,\n 60.29693504677532,\n 60.24914318113342,\n 60.20171765930898,\n 60.154638606368685,\n 60.107907197469,\n 60.061449639094874,\n 60.015330023840306,\n 59.96953945487863,\n 59.923952782749346,\n 59.87867817881893,\n 59.83369668903925,\n 59.789011366602736,\n 59.7444568337409,\n 59.700148031768016,\n 59.65614693603294,\n 59.61242698858659,\n 59.56900448010953,\n 59.52587739482509,\n 59.48301292416417,\n 59.44040360731171,\n 59.39800363903087,\n 59.35572787930767,\n 59.31350968443816,\n 59.271407847330245,\n 59.229567382941646,\n 59.188073147419885,\n 59.14684312903073,\n 59.10586883423252,\n 59.065147497407885,\n 59.024693028272665,\n 58.984520287254924,\n 58.94460733520708,\n 58.90495766267999,\n 58.8655701012953,\n 58.82642600956529,\n 58.78750694673375,\n 58.74877670504336,\n 58.71018966598735,\n 58.671781836047955,\n 58.633601020058194,\n 58.59564007884307,\n 58.557881029254816,\n 58.520251014112304,\n 58.482800067266375,\n 58.445500833730875,\n 58.40838813449208,\n 58.371455316840496,\n 58.33469003380315,\n 58.29808830013722,\n 58.26167084537509,\n 58.22544622081303,\n 58.189386981951024,\n 58.15351464296093,\n 58.11782698262954,\n 58.08231503509806,\n 58.046970247636246,\n 58.01178212109005,\n 57.97674916754931,\n 57.94185183354232,\n 57.90715655701236,\n 57.87266968478319,\n 57.83835669693068,\n 57.80421122722286,\n 57.770175540138354,\n 57.73630911598446,\n 57.702610911768204,\n 57.669078925588444,\n 57.635701710613574,\n 57.602445999381544,\n 57.56932528315528,\n 57.53634458147799,\n 57.503503554827844,\n 57.47078207705563,\n 57.43818611973781,\n 57.405729969913445,\n 57.37340998822499]"
     },
     "execution_count": 27,
     "metadata": {},
     "output_type": "execute_result"
    }
   ],
   "source": [
    "RMSE_curve"
   ],
   "metadata": {
    "collapsed": false,
    "pycharm": {
     "name": "#%%\n"
    }
   }
  },
  {
   "cell_type": "code",
   "execution_count": 28,
   "outputs": [
    {
     "data": {
      "text/plain": "<Figure size 432x288 with 1 Axes>",
      "image/png": "[encoded data removed]"
     },
     "metadata": {
      "needs_background": "light"
     },
     "output_type": "display_data"
    },
    {
     "data": {
      "text/plain": "<Figure size 432x288 with 1 Axes>",
      "image/png": "[encoded data removed]"
     },
     "metadata": {
      "needs_background": "light"
     },
     "output_type": "display_data"
    }
   ],
   "source": [
    "# Plotting list1\n",
    "plt.figure(1)\n",
    "plt.plot(np.arange(len(RMSE_curve)),RMSE_curve)\n",
    "plt.xlabel('iterations')\n",
    "plt.ylabel('RMSE')\n",
    "plt.title('RMSE progression')\n",
    "\n",
    "# Plotting list2\n",
    "plt.figure(2)\n",
    "plt.plot(np.arange(len(RMSE_curve)),SSE_curve)\n",
    "plt.xlabel('Iterations')\n",
    "plt.ylabel('SSE')\n",
    "plt.title('SSE progression')\n",
    "\n",
    "# Show the plots\n",
    "plt.show()"
   ],
   "metadata": {
    "collapsed": false,
    "pycharm": {
     "name": "#%%\n"
    }
   }
  },
  {
   "cell_type": "markdown",
   "source": [
    "## Test Prediction - part 2"
   ],
   "metadata": {
    "collapsed": false,
    "pycharm": {
     "name": "#%% md\n"
    }
   }
  },
  {
   "cell_type": "code",
   "execution_count": 29,
   "outputs": [],
   "source": [
    "test_pred_2 = []\n",
    "for idx in test_indxs_mapped:\n",
    "    user, song = idx[0], idx[1]\n",
    "    user_vec, song_vec = user_vecs[user], song_vecs[song]\n",
    "    pred = user_vec.dot(song_vec)\n",
    "    test_pred_2.append(max(pred, 0))"
   ],
   "metadata": {
    "collapsed": false,
    "pycharm": {
     "name": "#%%\n"
    }
   }
  },
  {
   "cell_type": "code",
   "execution_count": 44,
   "outputs": [],
   "source": [
    "test_df['predictions'] = test_pred_2\n",
    "test_df.to_csv('206567067_318880754_task2.csv',index=False)\n",
    "test_df = test_df.drop('predictions', axis=1)"
   ],
   "metadata": {
    "collapsed": false,
    "pycharm": {
     "name": "#%%\n"
    }
   }
  },
  {
   "cell_type": "markdown",
   "source": [
    "# Part 3"
   ],
   "metadata": {
    "collapsed": false,
    "pycharm": {
     "name": "#%% md\n"
    }
   }
  },
  {
   "cell_type": "code",
   "execution_count": 30,
   "outputs": [],
   "source": [
    "# Perform SVD on the sparse matrix\n",
    "# k = Number of singular values/vectors to use\n",
    "U, S, V = svds(true_mat.astype(float), k=20)\n",
    "\n",
    "# Reconstruct the matrix using k singular values/vectors\n",
    "reduced_R = U.dot(sp.diags(S).dot(V))"
   ],
   "metadata": {
    "collapsed": false,
    "pycharm": {
     "name": "#%%\n"
    }
   }
  },
  {
   "cell_type": "markdown",
   "source": [
    "## part 3 train scores"
   ],
   "metadata": {
    "collapsed": false,
    "pycharm": {
     "name": "#%% md\n"
    }
   }
  },
  {
   "cell_type": "code",
   "execution_count": 31,
   "outputs": [],
   "source": [
    "predictions = reduced_R\n",
    "train_indices = list(zip(rows,cols))\n",
    "mask = np.zeros(reduced_R.shape,dtype=bool)\n",
    "for entry in train_indices:\n",
    "    mask[entry]=True\n",
    "predictions[~mask] = 0\n",
    "score = get_score(true_mat.toarray(),predictions,N)"
   ],
   "metadata": {
    "collapsed": false,
    "pycharm": {
     "name": "#%%\n"
    }
   }
  },
  {
   "cell_type": "markdown",
   "source": [
    "## part 3 - test"
   ],
   "metadata": {
    "collapsed": false,
    "pycharm": {
     "name": "#%% md\n"
    }
   }
  },
  {
   "cell_type": "code",
   "execution_count": 32,
   "outputs": [],
   "source": [
    "test_pred_3 = []\n",
    "for idx in test_indxs_mapped:\n",
    "    user, song = idx[0], idx[1]\n",
    "    test_pred_3.append(max(reduced_R[user,song], 0))"
   ],
   "metadata": {
    "collapsed": false,
    "pycharm": {
     "name": "#%%\n"
    }
   }
  },
  {
   "cell_type": "code",
   "execution_count": 33,
   "outputs": [
    {
     "data": {
      "text/plain": "-5731609340.201843"
     },
     "execution_count": 33,
     "metadata": {},
     "output_type": "execute_result"
    }
   ],
   "source": [
    "score['SSE']-235000000000"
   ],
   "metadata": {
    "collapsed": false,
    "pycharm": {
     "name": "#%%\n"
    }
   }
  },
  {
   "cell_type": "code",
   "execution_count": 34,
   "outputs": [],
   "source": [
    "test_pred_3 = []\n",
    "for i, row in test_df.iterrows():\n",
    "    user = row['user_id']\n",
    "    song = row['song_id']\n",
    "    user_index = users_hash[user]\n",
    "    song_index = songs_hash[song]\n",
    "    test_pred_3.append(max(reduced_R[user_index, song_index], 0))"
   ],
   "metadata": {
    "collapsed": false,
    "pycharm": {
     "name": "#%%\n"
    }
   }
  },
  {
   "cell_type": "code",
   "execution_count": 45,
   "outputs": [],
   "source": [
    "test_df['predictions'] = test_pred_3\n",
    "test_df.to_csv('206567067_318880754_task3.csv',index=False)\n",
    "test_df = test_df.drop('predictions', axis=1)"
   ],
   "metadata": {
    "collapsed": false,
    "pycharm": {
     "name": "#%%\n"
    }
   }
  },
  {
   "cell_type": "code",
   "execution_count": null,
   "outputs": [],
   "source": [],
   "metadata": {
    "collapsed": false,
    "pycharm": {
     "name": "#%%\n"
    }
   }
  }
 ],
 "metadata": {
  "kernelspec": {
   "display_name": "Python 3",
   "language": "python",
   "name": "python3"
  },
  "language_info": {
   "codemirror_mode": {
    "name": "ipython",
    "version": 2
   },
   "file_extension": ".py",
   "mimetype": "text/x-python",
   "name": "python",
   "nbconvert_exporter": "python",
   "pygments_lexer": "ipython2",
   "version": "2.7.6"
  }
 },
 "nbformat": 4,
 "nbformat_minor": 0
}